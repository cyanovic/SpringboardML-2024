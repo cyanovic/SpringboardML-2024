{
 "cells": [
  {
   "cell_type": "markdown",
   "metadata": {
    "id": "fyXucUekO19i"
   },
   "source": [
    "# Mini Project: Transfer Learning with Keras\n",
    "\n",
    "Transfer learning is a machine learning technique where a model trained on one task is used as a starting point to solve a different but related task. Instead of training a model from scratch, transfer learning leverages the knowledge learned from the source task and applies it to the target task. This approach is especially useful when the target task has limited data or computational resources.\n",
    "\n",
    "In transfer learning, the pre-trained model, also known as the \"base model\" or \"source model,\" is typically trained on a large dataset and a more general problem (e.g., image classification on ImageNet, a vast dataset with millions of labeled images). The knowledge learned by the base model in the form of feature representations and weights captures common patterns and features in the data.\n",
    "\n",
    "To perform transfer learning, the following steps are commonly followed:\n",
    "\n",
    "1. Pre-training: The base model is trained on a source task using a large dataset, which can take a considerable amount of time and computational resources.\n",
    "\n",
    "2. Feature Extraction: After pre-training, the base model is used as a feature extractor. The last few layers (classifier layers) of the model are discarded, and the remaining layers (feature extraction layers) are retained. These layers serve as feature extractors, producing meaningful representations of the data.\n",
    "\n",
    "3. Fine-tuning: The feature extraction layers and sometimes some of the earlier layers are connected to a new set of layers, often called the \"classifier layers\" or \"task-specific layers.\" These layers are randomly initialized, and the model is trained on the target task with a smaller dataset. The weights of the base model can be frozen during fine-tuning, or they can be allowed to be updated with a lower learning rate to fine-tune the model for the target task.\n",
    "\n",
    "Transfer learning has several benefits:\n",
    "\n",
    "1. Reduced training time and resource requirements: Since the base model has already learned generic features, transfer learning can save time and resources compared to training a model from scratch.\n",
    "\n",
    "2. Improved generalization: Transfer learning helps the model generalize better to the target task, especially when the target dataset is small and dissimilar from the source dataset.\n",
    "\n",
    "3. Better performance: By starting from a model that is already trained on a large dataset, transfer learning can lead to better performance on the target task, especially in scenarios with limited data.\n",
    "\n",
    "4. Effective feature extraction: The feature extraction layers of the pre-trained model can serve as powerful feature extractors for different tasks, even when the task domains differ.\n",
    "\n",
    "Transfer learning is commonly used in various domains, including computer vision, natural language processing (NLP), and speech recognition, where pre-trained models are fine-tuned for specific applications like object detection, sentiment analysis, or speech-to-text.\n",
    "\n",
    "In this mini-project you will perform fine-tuning using Keras with a pre-trained VGG16 model on the CIFAR-10 dataset."
   ]
  },
  {
   "cell_type": "markdown",
   "metadata": {
    "id": "TYuE9O6I2uRY"
   },
   "source": [
    "First, import all the libraries you'll need."
   ]
  },
  {
   "cell_type": "code",
   "execution_count": 73,
   "metadata": {
    "ExecuteTime": {
     "end_time": "2024-06-09T01:28:06.575191Z",
     "start_time": "2024-06-09T01:28:06.563867Z"
    },
    "id": "kLWR1DfQPakn"
   },
   "outputs": [],
   "source": [
    "import numpy as np\n",
    "import tensorflow as tf\n",
    "from tensorflow.keras.datasets import cifar10\n",
    "from tensorflow.keras.applications import VGG16\n",
    "from tensorflow.keras.models import Model\n",
    "from tensorflow.keras.layers import Dense, GlobalAveragePooling2D\n",
    "from tensorflow.keras.optimizers import Adam\n",
    "from tensorflow.keras.utils import to_categorical\n",
    "from sklearn.model_selection import train_test_split"
   ]
  },
  {
   "cell_type": "markdown",
   "metadata": {
    "id": "TEB60YsX2yUf"
   },
   "source": [
    "The CIFAR-10 dataset is a widely used benchmark dataset in the field of computer vision and machine learning. It stands for the \"Canadian Institute for Advanced Research 10\" dataset. CIFAR-10 was created by researchers at the CIFAR institute and was originally introduced as part of the Neural Information Processing Systems (NIPS) 2009 competition.\n",
    "\n",
    "The dataset consists of 60,000 color images, each of size 32x32 pixels, belonging to ten different classes. Each class contains 6,000 images. The ten classes in CIFAR-10 are:\n",
    "\n",
    "1. Airplane\n",
    "2. Automobile\n",
    "3. Bird\n",
    "4. Cat\n",
    "5. Deer\n",
    "6. Dog\n",
    "7. Frog\n",
    "8. Horse\n",
    "9. Ship\n",
    "10. Truck\n",
    "\n",
    "The images are evenly distributed across the classes, making CIFAR-10 a balanced dataset. The dataset is divided into two sets: a training set and a test set. The training set contains 50,000 images, while the test set contains the remaining 10,000 images.\n",
    "\n",
    "CIFAR-10 is often used for tasks such as image classification, object recognition, and transfer learning experiments. The relatively small size of the images and the variety of classes make it a challenging dataset for training machine learning models, especially deep neural networks. It also serves as a good dataset for teaching and learning purposes due to its manageable size and straightforward class labels."
   ]
  },
  {
   "cell_type": "markdown",
   "metadata": {
    "id": "Gp0MVIbiFonL"
   },
   "source": [
    "Here are your tasks:\n",
    "\n",
    "1. Load the CIFAR-10 dataset after referencing the documentation [here](https://keras.io/api/datasets/cifar10/).\n",
    "2. Normalize the pixel values so they're all in the range [0, 1].\n",
    "3. Apply One Hot Encoding to the train and test labels using the [to_categorical](https://www.tensorflow.org/api_docs/python/tf/keras/utils/to_categorical) function.\n",
    "4. Further split the the training data into training and validation sets using [train_test_split](https://scikit-learn.org/stable/modules/generated/sklearn.model_selection.train_test_split.html). Use only 10% of the data for validation.  "
   ]
  },
  {
   "cell_type": "code",
   "execution_count": 74,
   "metadata": {
    "ExecuteTime": {
     "end_time": "2024-06-09T01:28:07.269342Z",
     "start_time": "2024-06-09T01:28:06.585277Z"
    },
    "id": "ndNbwjaaSvs-"
   },
   "outputs": [],
   "source": [
    "# Load the CIFAR-10 dataset\n",
    "(X_train_full, y_train_full), (X_test, y_test) = cifar10.load_data()"
   ]
  },
  {
   "cell_type": "code",
   "execution_count": 75,
   "metadata": {
    "ExecuteTime": {
     "end_time": "2024-06-09T01:28:07.712140Z",
     "start_time": "2024-06-09T01:28:07.270814Z"
    },
    "id": "8H6KUgh2SxxR"
   },
   "outputs": [],
   "source": [
    "# Normalize the pixel values to [0, 1]\n",
    "X_train_full = X_train_full.astype('float32') / 255.0\n",
    "X_test = X_test.astype('float32') / 255.0"
   ]
  },
  {
   "cell_type": "code",
   "execution_count": 76,
   "metadata": {
    "ExecuteTime": {
     "end_time": "2024-06-09T01:28:07.716780Z",
     "start_time": "2024-06-09T01:28:07.713046Z"
    },
    "id": "mWDW1ZLySz7K"
   },
   "outputs": [],
   "source": [
    "# One-hot encode the labels\n",
    "y_train_full = to_categorical(y_train_full, 10)\n",
    "y_test = to_categorical(y_test, 10)"
   ]
  },
  {
   "cell_type": "code",
   "execution_count": 77,
   "metadata": {
    "ExecuteTime": {
     "end_time": "2024-06-09T01:28:08.159590Z",
     "start_time": "2024-06-09T01:28:07.718336Z"
    },
    "id": "4y3zao91ndZB"
   },
   "outputs": [],
   "source": [
    "# Split the data into training and validation sets\n",
    "X_train, X_val, y_train, y_val = train_test_split(X_train_full, y_train_full, test_size=0.1, random_state=3)"
   ]
  },
  {
   "cell_type": "markdown",
   "metadata": {
    "id": "aiFJsxS5HPHW"
   },
   "source": [
    "VGG16 (Visual Geometry Group 16) is a deep convolutional neural network architecture that was developed by the Visual Geometry Group at the University of Oxford. It was proposed by researchers Karen Simonyan and Andrew Zisserman in their paper titled \"Very Deep Convolutional Networks for Large-Scale Image Recognition,\" which was presented at the International Conference on Learning Representations (ICLR) in 2015.\n",
    "\n",
    "The VGG16 architecture gained significant popularity for its simplicity and effectiveness in image classification tasks. It was one of the pioneering models that demonstrated the power of deeper neural networks for visual recognition tasks.\n",
    "\n",
    "Key characteristics of the VGG16 architecture:\n",
    "\n",
    "1. Architecture: VGG16 consists of a total of 16 layers, hence the name \"16.\" These layers are stacked one after another, forming a deep neural network.\n",
    "\n",
    "2. Convolutional Layers: The main building blocks of VGG16 are the convolutional layers. It primarily uses 3x3 convolutional filters throughout the network, which allows it to capture local features effectively.\n",
    "\n",
    "3. Max Pooling: After each set of convolutional layers, VGG16 applies max-pooling layers with 2x2 filters and stride 2, which halves the spatial dimensions (width and height) of the feature maps and reduces the number of parameters.\n",
    "\n",
    "4. Fully Connected Layers: Towards the end of the network, VGG16 has fully connected layers that act as a classifier to make predictions based on the learned features.\n",
    "\n",
    "5. Activation Function: The network uses the Rectified Linear Unit (ReLU) activation function for all hidden layers, which helps with faster convergence during training.\n",
    "\n",
    "6. Number of Filters: The number of filters in each convolutional layer is relatively small compared to more recent architectures like ResNet or InceptionNet. However, stacking multiple layers allows VGG16 to learn complex hierarchical features.\n",
    "\n",
    "7. Output Layer: The output layer consists of 1000 units, corresponding to 1000 ImageNet classes. VGG16 was originally trained on the large-scale ImageNet dataset, which contains millions of images from 1000 different classes.\n",
    "\n",
    "VGG16 was instrumental in showing that increasing the depth of a neural network can significantly improve its performance on image recognition tasks. However, the main drawback of VGG16 is its high number of parameters, making it computationally expensive and memory-intensive to train. Despite this limitation, VGG16 remains an essential benchmark architecture and has paved the way for even deeper and more efficient models in the field of computer vision, such as ResNet, DenseNet, and EfficientNet."
   ]
  },
  {
   "cell_type": "markdown",
   "metadata": {
    "id": "XJw9E1D9Q3tQ"
   },
   "source": [
    "Here are your tasks:\n",
    "\n",
    "1. Load [VGG16](https://keras.io/api/applications/vgg/#vgg16-function) as a base model. Make sure to exclude the top layer.\n",
    "2. Freeze all the layers in the base model. We'll be using these weights as a feature extraction layer to forward to layers that are trainable."
   ]
  },
  {
   "cell_type": "code",
   "execution_count": 78,
   "metadata": {
    "ExecuteTime": {
     "end_time": "2024-06-09T01:28:08.534484Z",
     "start_time": "2024-06-09T01:28:08.160733Z"
    },
    "id": "bncm8oTonijm"
   },
   "outputs": [],
   "source": [
    "# Load the pre-trained VGG16 model (excluding the top classifier)\n",
    "vgg_model = VGG16(weights='imagenet', include_top=False, input_shape=(32, 32, 3))"
   ]
  },
  {
   "cell_type": "code",
   "execution_count": 79,
   "metadata": {
    "ExecuteTime": {
     "end_time": "2024-06-09T01:28:08.537802Z",
     "start_time": "2024-06-09T01:28:08.535440Z"
    },
    "id": "pCQXH4bwS6h5"
   },
   "outputs": [],
   "source": [
    "# Freeze the layers in the base model\n",
    "for layer in vgg_model.layers:\n",
    "    layer.trainable = False"
   ]
  },
  {
   "cell_type": "markdown",
   "metadata": {
    "id": "MAnyLR6btWqd"
   },
   "source": [
    "Now, we'll add some trainable layers to the base model.\n",
    "\n",
    "1. Using the base model, add a [GlobalAveragePooling2D](https://keras.io/api/layers/pooling_layers/global_average_pooling2d/) layer, followed by a [Dense](https://keras.io/api/layers/core_layers/dense/) layer of length 256 with ReLU activation. Finally, add a classification layer with 10 units, corresponding to the 10 CIFAR-10 classes, with softmax activation.\n",
    "2. Create a Keras [Model](https://keras.io/api/models/model/) that takes in approproate inputs and outputs."
   ]
  },
  {
   "cell_type": "code",
   "execution_count": 80,
   "metadata": {
    "ExecuteTime": {
     "end_time": "2024-06-09T01:28:08.545664Z",
     "start_time": "2024-06-09T01:28:08.538653Z"
    },
    "id": "GiD0CiSvTCRG"
   },
   "outputs": [],
   "source": [
    "# Add a global average pooling layer\n",
    "x = vgg_model.output\n",
    "x = GlobalAveragePooling2D()(x)\n",
    "model = Model(inputs=vgg_model.input, outputs=x)"
   ]
  },
  {
   "cell_type": "code",
   "execution_count": 81,
   "metadata": {
    "ExecuteTime": {
     "end_time": "2024-06-09T01:28:08.562376Z",
     "start_time": "2024-06-09T01:28:08.546536Z"
    }
   },
   "outputs": [
    {
     "name": "stdout",
     "output_type": "stream",
     "text": [
      "Model: \"model_9\"\n",
      "_________________________________________________________________\n",
      " Layer (type)                Output Shape              Param #   \n",
      "=================================================================\n",
      " input_4 (InputLayer)        [(None, 32, 32, 3)]       0         \n",
      "                                                                 \n",
      " block1_conv1 (Conv2D)       (None, 32, 32, 64)        1792      \n",
      "                                                                 \n",
      " block1_conv2 (Conv2D)       (None, 32, 32, 64)        36928     \n",
      "                                                                 \n",
      " block1_pool (MaxPooling2D)  (None, 16, 16, 64)        0         \n",
      "                                                                 \n",
      " block2_conv1 (Conv2D)       (None, 16, 16, 128)       73856     \n",
      "                                                                 \n",
      " block2_conv2 (Conv2D)       (None, 16, 16, 128)       147584    \n",
      "                                                                 \n",
      " block2_pool (MaxPooling2D)  (None, 8, 8, 128)         0         \n",
      "                                                                 \n",
      " block3_conv1 (Conv2D)       (None, 8, 8, 256)         295168    \n",
      "                                                                 \n",
      " block3_conv2 (Conv2D)       (None, 8, 8, 256)         590080    \n",
      "                                                                 \n",
      " block3_conv3 (Conv2D)       (None, 8, 8, 256)         590080    \n",
      "                                                                 \n",
      " block3_pool (MaxPooling2D)  (None, 4, 4, 256)         0         \n",
      "                                                                 \n",
      " block4_conv1 (Conv2D)       (None, 4, 4, 512)         1180160   \n",
      "                                                                 \n",
      " block4_conv2 (Conv2D)       (None, 4, 4, 512)         2359808   \n",
      "                                                                 \n",
      " block4_conv3 (Conv2D)       (None, 4, 4, 512)         2359808   \n",
      "                                                                 \n",
      " block4_pool (MaxPooling2D)  (None, 2, 2, 512)         0         \n",
      "                                                                 \n",
      " block5_conv1 (Conv2D)       (None, 2, 2, 512)         2359808   \n",
      "                                                                 \n",
      " block5_conv2 (Conv2D)       (None, 2, 2, 512)         2359808   \n",
      "                                                                 \n",
      " block5_conv3 (Conv2D)       (None, 2, 2, 512)         2359808   \n",
      "                                                                 \n",
      " block5_pool (MaxPooling2D)  (None, 1, 1, 512)         0         \n",
      "                                                                 \n",
      " global_average_pooling2d_3   (None, 512)              0         \n",
      " (GlobalAveragePooling2D)                                        \n",
      "                                                                 \n",
      "=================================================================\n",
      "Total params: 14,714,688\n",
      "Trainable params: 0\n",
      "Non-trainable params: 14,714,688\n",
      "_________________________________________________________________\n"
     ]
    }
   ],
   "source": [
    "model.summary()"
   ]
  },
  {
   "cell_type": "code",
   "execution_count": 82,
   "metadata": {
    "ExecuteTime": {
     "end_time": "2024-06-09T01:28:08.576224Z",
     "start_time": "2024-06-09T01:28:08.563323Z"
    },
    "id": "fKbX1RK4TCB9"
   },
   "outputs": [],
   "source": [
    "# Add a fully connected layer with 256 units and ReLU activation\n",
    "x = Dense(256, activation='relu')(x)  # x from the previous context\n",
    "model = Model(inputs=vgg_model.input, outputs=x)"
   ]
  },
  {
   "cell_type": "code",
   "execution_count": 83,
   "metadata": {
    "ExecuteTime": {
     "end_time": "2024-06-09T01:28:08.598607Z",
     "start_time": "2024-06-09T01:28:08.578878Z"
    }
   },
   "outputs": [
    {
     "name": "stdout",
     "output_type": "stream",
     "text": [
      "Model: \"model_10\"\n",
      "_________________________________________________________________\n",
      " Layer (type)                Output Shape              Param #   \n",
      "=================================================================\n",
      " input_4 (InputLayer)        [(None, 32, 32, 3)]       0         \n",
      "                                                                 \n",
      " block1_conv1 (Conv2D)       (None, 32, 32, 64)        1792      \n",
      "                                                                 \n",
      " block1_conv2 (Conv2D)       (None, 32, 32, 64)        36928     \n",
      "                                                                 \n",
      " block1_pool (MaxPooling2D)  (None, 16, 16, 64)        0         \n",
      "                                                                 \n",
      " block2_conv1 (Conv2D)       (None, 16, 16, 128)       73856     \n",
      "                                                                 \n",
      " block2_conv2 (Conv2D)       (None, 16, 16, 128)       147584    \n",
      "                                                                 \n",
      " block2_pool (MaxPooling2D)  (None, 8, 8, 128)         0         \n",
      "                                                                 \n",
      " block3_conv1 (Conv2D)       (None, 8, 8, 256)         295168    \n",
      "                                                                 \n",
      " block3_conv2 (Conv2D)       (None, 8, 8, 256)         590080    \n",
      "                                                                 \n",
      " block3_conv3 (Conv2D)       (None, 8, 8, 256)         590080    \n",
      "                                                                 \n",
      " block3_pool (MaxPooling2D)  (None, 4, 4, 256)         0         \n",
      "                                                                 \n",
      " block4_conv1 (Conv2D)       (None, 4, 4, 512)         1180160   \n",
      "                                                                 \n",
      " block4_conv2 (Conv2D)       (None, 4, 4, 512)         2359808   \n",
      "                                                                 \n",
      " block4_conv3 (Conv2D)       (None, 4, 4, 512)         2359808   \n",
      "                                                                 \n",
      " block4_pool (MaxPooling2D)  (None, 2, 2, 512)         0         \n",
      "                                                                 \n",
      " block5_conv1 (Conv2D)       (None, 2, 2, 512)         2359808   \n",
      "                                                                 \n",
      " block5_conv2 (Conv2D)       (None, 2, 2, 512)         2359808   \n",
      "                                                                 \n",
      " block5_conv3 (Conv2D)       (None, 2, 2, 512)         2359808   \n",
      "                                                                 \n",
      " block5_pool (MaxPooling2D)  (None, 1, 1, 512)         0         \n",
      "                                                                 \n",
      " global_average_pooling2d_3   (None, 512)              0         \n",
      " (GlobalAveragePooling2D)                                        \n",
      "                                                                 \n",
      " dense_6 (Dense)             (None, 256)               131328    \n",
      "                                                                 \n",
      "=================================================================\n",
      "Total params: 14,846,016\n",
      "Trainable params: 131,328\n",
      "Non-trainable params: 14,714,688\n",
      "_________________________________________________________________\n"
     ]
    }
   ],
   "source": [
    "model.summary()"
   ]
  },
  {
   "cell_type": "code",
   "execution_count": 84,
   "metadata": {
    "ExecuteTime": {
     "end_time": "2024-06-09T01:28:08.610280Z",
     "start_time": "2024-06-09T01:28:08.599720Z"
    },
    "id": "yEYDagVQTB33"
   },
   "outputs": [],
   "source": [
    "# Add the final classification layer with 10 units (for CIFAR-10 classes) and softmax activation\n",
    "output = Dense(10, activation='softmax')(x)\n"
   ]
  },
  {
   "cell_type": "code",
   "execution_count": 85,
   "metadata": {
    "ExecuteTime": {
     "end_time": "2024-06-09T01:28:08.615387Z",
     "start_time": "2024-06-09T01:28:08.611185Z"
    },
    "id": "A-op7iObo8io"
   },
   "outputs": [],
   "source": [
    "# Create the fine-tuned model\n",
    "model = Model(inputs=vgg_model.input, outputs=output)"
   ]
  },
  {
   "cell_type": "markdown",
   "metadata": {
    "id": "jjgG_9IMwuLS"
   },
   "source": [
    "With your model complete it's time to train it and assess its performance.\n",
    "\n",
    "1. Compile your model using an appropriate loss function. Feel free to play around with the optimizer, but a good starting optimizer might be Adam with a learning rate of 0.001.\n",
    "2. Fit your model on the training data. Use the validation data to print the accuracy for each epoch. Try training for 10 epochs. Note, training can take a few hours so go ahead and grab a cup of coffee.\n",
    "\n",
    "**Optional**: See if you can implement an [Early Stopping](https://keras.io/api/callbacks/early_stopping/) criteria as a callback function."
   ]
  },
  {
   "cell_type": "code",
   "execution_count": 86,
   "metadata": {
    "ExecuteTime": {
     "end_time": "2024-06-09T01:28:08.622027Z",
     "start_time": "2024-06-09T01:28:08.616257Z"
    },
    "id": "xTFBXCe6TG5m"
   },
   "outputs": [],
   "source": [
    "# Compile the model\n",
    "model.compile(optimizer=Adam(learning_rate=0.0001),\n",
    "              loss='categorical_crossentropy',\n",
    "              metrics=['accuracy'])"
   ]
  },
  {
   "cell_type": "code",
   "execution_count": 87,
   "metadata": {
    "ExecuteTime": {
     "end_time": "2024-06-09T02:14:22.480138Z",
     "start_time": "2024-06-09T01:28:08.622820Z"
    },
    "id": "M5JnXlGPpkDg"
   },
   "outputs": [
    {
     "name": "stdout",
     "output_type": "stream",
     "text": [
      "Epoch 1/20\n",
      "1407/1407 [==============================] - 141s 100ms/step - loss: 1.6782 - accuracy: 0.4330 - val_loss: 1.4337 - val_accuracy: 0.5158\n",
      "Epoch 2/20\n",
      "1407/1407 [==============================] - 139s 99ms/step - loss: 1.3616 - accuracy: 0.5334 - val_loss: 1.3240 - val_accuracy: 0.5510\n",
      "Epoch 3/20\n",
      "1407/1407 [==============================] - 139s 99ms/step - loss: 1.2805 - accuracy: 0.5588 - val_loss: 1.2772 - val_accuracy: 0.5664\n",
      "Epoch 4/20\n",
      "1407/1407 [==============================] - 138s 98ms/step - loss: 1.2352 - accuracy: 0.5743 - val_loss: 1.2459 - val_accuracy: 0.5768\n",
      "Epoch 5/20\n",
      "1407/1407 [==============================] - 141s 100ms/step - loss: 1.2036 - accuracy: 0.5837 - val_loss: 1.2220 - val_accuracy: 0.5886\n",
      "Epoch 6/20\n",
      "1407/1407 [==============================] - 137s 98ms/step - loss: 1.1806 - accuracy: 0.5938 - val_loss: 1.2160 - val_accuracy: 0.5858\n",
      "Epoch 7/20\n",
      "1407/1407 [==============================] - 138s 98ms/step - loss: 1.1612 - accuracy: 0.6005 - val_loss: 1.1988 - val_accuracy: 0.5920\n",
      "Epoch 8/20\n",
      "1407/1407 [==============================] - 139s 99ms/step - loss: 1.1455 - accuracy: 0.6050 - val_loss: 1.1922 - val_accuracy: 0.5946\n",
      "Epoch 9/20\n",
      "1407/1407 [==============================] - 137s 98ms/step - loss: 1.1306 - accuracy: 0.6091 - val_loss: 1.1854 - val_accuracy: 0.5948\n",
      "Epoch 10/20\n",
      "1407/1407 [==============================] - 139s 99ms/step - loss: 1.1194 - accuracy: 0.6123 - val_loss: 1.1740 - val_accuracy: 0.5956\n",
      "Epoch 11/20\n",
      "1407/1407 [==============================] - 140s 99ms/step - loss: 1.1079 - accuracy: 0.6188 - val_loss: 1.1687 - val_accuracy: 0.6026\n",
      "Epoch 12/20\n",
      "1407/1407 [==============================] - 137s 97ms/step - loss: 1.0975 - accuracy: 0.6207 - val_loss: 1.1756 - val_accuracy: 0.5978\n",
      "Epoch 13/20\n",
      "1407/1407 [==============================] - 138s 98ms/step - loss: 1.0885 - accuracy: 0.6254 - val_loss: 1.1621 - val_accuracy: 0.6032\n",
      "Epoch 14/20\n",
      "1407/1407 [==============================] - 137s 97ms/step - loss: 1.0796 - accuracy: 0.6274 - val_loss: 1.1510 - val_accuracy: 0.6058\n",
      "Epoch 15/20\n",
      "1407/1407 [==============================] - 139s 98ms/step - loss: 1.0715 - accuracy: 0.6302 - val_loss: 1.1561 - val_accuracy: 0.6100\n",
      "Epoch 16/20\n",
      "1407/1407 [==============================] - 138s 98ms/step - loss: 1.0626 - accuracy: 0.6324 - val_loss: 1.1508 - val_accuracy: 0.6078\n",
      "Epoch 17/20\n",
      "1407/1407 [==============================] - 138s 98ms/step - loss: 1.0556 - accuracy: 0.6350 - val_loss: 1.1461 - val_accuracy: 0.6120\n",
      "Epoch 18/20\n",
      "1407/1407 [==============================] - 139s 99ms/step - loss: 1.0483 - accuracy: 0.6366 - val_loss: 1.1392 - val_accuracy: 0.6064\n",
      "Epoch 19/20\n",
      "1407/1407 [==============================] - 140s 99ms/step - loss: 1.0409 - accuracy: 0.6408 - val_loss: 1.1378 - val_accuracy: 0.6144\n",
      "Epoch 20/20\n",
      "1407/1407 [==============================] - 138s 98ms/step - loss: 1.0337 - accuracy: 0.6423 - val_loss: 1.1326 - val_accuracy: 0.6146\n"
     ]
    }
   ],
   "source": [
    "# Train the model\n",
    "from tensorflow.keras.callbacks import EarlyStopping\n",
    "\n",
    "early_stop = EarlyStopping(monitor='val_loss', mode='min', patience=5, restore_best_weights=True)\n",
    "\n",
    "# Train the model\n",
    "fitted = model.fit(X_train, y_train, validation_data=(X_val, y_val),\n",
    "                   epochs=20, batch_size=32, callbacks=[early_stop])"
   ]
  },
  {
   "cell_type": "markdown",
   "metadata": {
    "id": "N8-T6EnmypvW"
   },
   "source": [
    "With your model trained, it's time to assess how well it performs on the test data.\n",
    "\n",
    "1. Use your trained model to calculate the accuracy on the test set. Is the model performance better than random?\n",
    "2. Experiment! See if you can tweak your model to improve performance.  "
   ]
  },
  {
   "cell_type": "code",
   "execution_count": 88,
   "metadata": {
    "ExecuteTime": {
     "end_time": "2024-06-09T02:14:50.265401Z",
     "start_time": "2024-06-09T02:14:22.484896Z"
    },
    "id": "auYNYD0JpnaX"
   },
   "outputs": [
    {
     "name": "stdout",
     "output_type": "stream",
     "text": [
      "313/313 [==============================] - 28s 88ms/step - loss: 1.1415 - accuracy: 0.6047\n"
     ]
    }
   ],
   "source": [
    "# Evaluate the model on the test set\n",
    "loss, accuracy = model.evaluate(X_test, y_test)"
   ]
  },
  {
   "cell_type": "code",
   "execution_count": 89,
   "metadata": {
    "ExecuteTime": {
     "end_time": "2024-06-09T02:14:50.271988Z",
     "start_time": "2024-06-09T02:14:50.267041Z"
    }
   },
   "outputs": [
    {
     "name": "stdout",
     "output_type": "stream",
     "text": [
      "Loss on test set: 1.1414835453033447 ; Accuracy on test set: 60.47%\n"
     ]
    }
   ],
   "source": [
    "print(\"Loss on test set:\", loss,\"; Accuracy on test set:\", \"{:.2f}%\".format(accuracy * 100))"
   ]
  },
  {
   "cell_type": "markdown",
   "metadata": {},
   "source": [
    "Accuracy here is 60%. Since there are 10 classes, random performance would be more complex than just 50:50 (50% accuracy) and would be substantially lower, I believe, so in that regard, with this multi-class variable, 60% is pretty good. However, it is not an optimal level of accuracy. I will try modifying some modifications. Since these models can take a while to run, I am not inclined to switch away from ReLU at this point, but if there were more time and resources, that could be something to try too, or changing the optimizer. For now, I'll see if a loss of 0.001 might improve accuracy if it is able to explore more of the space faster in 20 epochs. Alternatively, it could reduce accuracy, but I will see."
   ]
  },
  {
   "cell_type": "code",
   "execution_count": 90,
   "metadata": {
    "ExecuteTime": {
     "end_time": "2024-06-09T02:47:25.928136Z",
     "start_time": "2024-06-09T02:14:50.272931Z"
    }
   },
   "outputs": [
    {
     "name": "stdout",
     "output_type": "stream",
     "text": [
      "Epoch 1/20\n",
      "1407/1407 [==============================] - 137s 97ms/step - loss: 1.1271 - accuracy: 0.6073 - val_loss: 1.2108 - val_accuracy: 0.5878\n",
      "Epoch 2/20\n",
      "1407/1407 [==============================] - 138s 98ms/step - loss: 1.0729 - accuracy: 0.6244 - val_loss: 1.1537 - val_accuracy: 0.6062\n",
      "Epoch 3/20\n",
      "1407/1407 [==============================] - 137s 97ms/step - loss: 1.0294 - accuracy: 0.6375 - val_loss: 1.1703 - val_accuracy: 0.5982\n",
      "Epoch 4/20\n",
      "1407/1407 [==============================] - 139s 99ms/step - loss: 0.9913 - accuracy: 0.6509 - val_loss: 1.1624 - val_accuracy: 0.6072\n",
      "Epoch 5/20\n",
      "1407/1407 [==============================] - 138s 98ms/step - loss: 0.9507 - accuracy: 0.6666 - val_loss: 1.1868 - val_accuracy: 0.6008\n",
      "Epoch 6/20\n",
      "1407/1407 [==============================] - 136s 97ms/step - loss: 0.9187 - accuracy: 0.6793 - val_loss: 1.1473 - val_accuracy: 0.6078\n",
      "Epoch 7/20\n",
      "1407/1407 [==============================] - 138s 98ms/step - loss: 0.8858 - accuracy: 0.6901 - val_loss: 1.1262 - val_accuracy: 0.6158\n",
      "Epoch 8/20\n",
      "1407/1407 [==============================] - 136s 97ms/step - loss: 0.8536 - accuracy: 0.6991 - val_loss: 1.1665 - val_accuracy: 0.6080\n",
      "Epoch 9/20\n",
      "1407/1407 [==============================] - 137s 97ms/step - loss: 0.8243 - accuracy: 0.7110 - val_loss: 1.1182 - val_accuracy: 0.6262\n",
      "Epoch 10/20\n",
      "1407/1407 [==============================] - 142s 101ms/step - loss: 0.7926 - accuracy: 0.7204 - val_loss: 1.1444 - val_accuracy: 0.6176\n",
      "Epoch 11/20\n",
      "1407/1407 [==============================] - 147s 104ms/step - loss: 0.7643 - accuracy: 0.7315 - val_loss: 1.1572 - val_accuracy: 0.6214\n",
      "Epoch 12/20\n",
      "1407/1407 [==============================] - 143s 102ms/step - loss: 0.7355 - accuracy: 0.7421 - val_loss: 1.1883 - val_accuracy: 0.6136\n",
      "Epoch 13/20\n",
      "1407/1407 [==============================] - 144s 103ms/step - loss: 0.7069 - accuracy: 0.7539 - val_loss: 1.1943 - val_accuracy: 0.6090\n",
      "Epoch 14/20\n",
      "1407/1407 [==============================] - 143s 101ms/step - loss: 0.6792 - accuracy: 0.7627 - val_loss: 1.1971 - val_accuracy: 0.6182\n",
      "Early stopping triggered at epoch: 13\n"
     ]
    }
   ],
   "source": [
    "model = Model(inputs=vgg_model.input, outputs=output)\n",
    "model.compile(optimizer=Adam(learning_rate=0.001), loss='categorical_crossentropy',\n",
    "              metrics=['accuracy'])\n",
    "fitted = model.fit(X_train, y_train, validation_data=(X_val, y_val),\n",
    "                   epochs=20, batch_size=32, callbacks=[early_stop])\n",
    "if early_stop.stopped_epoch > 0:\n",
    "    print(f\"Early stopping triggered at epoch: {early_stop.stopped_epoch}\")\n",
    "else:\n",
    "    print(\"Early stopping was not triggered.\")"
   ]
  },
  {
   "cell_type": "code",
   "execution_count": 91,
   "metadata": {
    "ExecuteTime": {
     "end_time": "2024-06-09T02:47:54.236495Z",
     "start_time": "2024-06-09T02:47:25.931093Z"
    }
   },
   "outputs": [
    {
     "name": "stdout",
     "output_type": "stream",
     "text": [
      "313/313 [==============================] - 28s 90ms/step - loss: 1.1333 - accuracy: 0.6140\n",
      "Loss on test set: 1.1333398818969727 ; Accuracy on test set: 61.40%\n"
     ]
    }
   ],
   "source": [
    "loss, accuracy = model.evaluate(X_test, y_test)\n",
    "print(\"Loss on test set:\", loss,\"; Accuracy on test set:\", \"{:.2f}%\".format(accuracy * 100))"
   ]
  },
  {
   "cell_type": "markdown",
   "metadata": {},
   "source": [
    "Accuracy has improved slightly with a learning rate of 0.001. Now I'll see if it gets better with a learning rate of 0.01. This may be pushing it, but I will find out."
   ]
  },
  {
   "cell_type": "code",
   "execution_count": 92,
   "metadata": {
    "ExecuteTime": {
     "end_time": "2024-06-09T03:11:19.482834Z",
     "start_time": "2024-06-09T02:47:54.238088Z"
    }
   },
   "outputs": [
    {
     "name": "stdout",
     "output_type": "stream",
     "text": [
      "Epoch 1/20\n",
      "1407/1407 [==============================] - 145s 102ms/step - loss: 1.3326 - accuracy: 0.5348 - val_loss: 1.2930 - val_accuracy: 0.5500\n",
      "Epoch 2/20\n",
      "1407/1407 [==============================] - 140s 100ms/step - loss: 1.2352 - accuracy: 0.5688 - val_loss: 1.2872 - val_accuracy: 0.5566\n",
      "Epoch 3/20\n",
      "1407/1407 [==============================] - 139s 99ms/step - loss: 1.2017 - accuracy: 0.5812 - val_loss: 1.2695 - val_accuracy: 0.5694\n",
      "Epoch 4/20\n",
      "1407/1407 [==============================] - 139s 99ms/step - loss: 1.1788 - accuracy: 0.5919 - val_loss: 1.3419 - val_accuracy: 0.5518\n",
      "Epoch 5/20\n",
      "1407/1407 [==============================] - 138s 98ms/step - loss: 1.1600 - accuracy: 0.5950 - val_loss: 1.2588 - val_accuracy: 0.5832\n",
      "Epoch 6/20\n",
      "1407/1407 [==============================] - 140s 100ms/step - loss: 1.1377 - accuracy: 0.6013 - val_loss: 1.2877 - val_accuracy: 0.5720\n",
      "Epoch 7/20\n",
      "1407/1407 [==============================] - 142s 101ms/step - loss: 1.1210 - accuracy: 0.6111 - val_loss: 1.3099 - val_accuracy: 0.5622\n",
      "Epoch 8/20\n",
      "1407/1407 [==============================] - 139s 99ms/step - loss: 1.1089 - accuracy: 0.6151 - val_loss: 1.3134 - val_accuracy: 0.5694\n",
      "Epoch 9/20\n",
      "1407/1407 [==============================] - 140s 100ms/step - loss: 1.1003 - accuracy: 0.6163 - val_loss: 1.3078 - val_accuracy: 0.5884\n",
      "Epoch 10/20\n",
      "1407/1407 [==============================] - 142s 101ms/step - loss: 1.0903 - accuracy: 0.6190 - val_loss: 1.2947 - val_accuracy: 0.5864\n",
      "Early stopping triggered at epoch: 9\n"
     ]
    }
   ],
   "source": [
    "model = Model(inputs=vgg_model.input, outputs=output)\n",
    "model.compile(optimizer=Adam(learning_rate=0.01), loss='categorical_crossentropy',\n",
    "              metrics=['accuracy'])\n",
    "fitted = model.fit(X_train, y_train, validation_data=(X_val, y_val),\n",
    "                   epochs=20, batch_size=32, callbacks=[early_stop])\n",
    "if early_stop.stopped_epoch > 0:\n",
    "    print(f\"Early stopping triggered at epoch: {early_stop.stopped_epoch}\")\n",
    "else:\n",
    "    print(\"Early stopping was not triggered.\")"
   ]
  },
  {
   "cell_type": "code",
   "execution_count": 93,
   "metadata": {
    "ExecuteTime": {
     "end_time": "2024-06-09T03:11:47.872402Z",
     "start_time": "2024-06-09T03:11:19.484727Z"
    }
   },
   "outputs": [
    {
     "name": "stdout",
     "output_type": "stream",
     "text": [
      "313/313 [==============================] - 28s 90ms/step - loss: 1.2553 - accuracy: 0.5742\n",
      "Loss on test set: 1.2552900314331055 ; Accuracy on test set: 57.42%\n"
     ]
    }
   ],
   "source": [
    "loss, accuracy = model.evaluate(X_test, y_test)\n",
    "print(\"Loss on test set:\", loss,\"; Accuracy on test set:\", \"{:.2f}%\".format(accuracy * 100))"
   ]
  },
  {
   "cell_type": "markdown",
   "metadata": {},
   "source": [
    "With a learning rate of 0.01, model performance clearly did not get better and instead was a little worse than with the first model, using a learning rate of 0.0001. So far the best result has come from the model with a learning rate of 0.001. Ideally, with more time and resources, additional parameters could be tested, such as types of activation or numbers of hidden layers. \n",
    "\n",
    "In this project, I learned how to develop, test, and fine tune a transfer learning-based model using Keras with a multi-class outcome variable. This involved determining how the data were structured, decisions on hyperparameters to modify, and what is necessary to reset the model to evaluate a new condition."
   ]
  }
 ],
 "metadata": {
  "colab": {
   "provenance": []
  },
  "kernelspec": {
   "display_name": "Python 3 (ipykernel)",
   "language": "python",
   "name": "python3"
  },
  "language_info": {
   "name": "python"
  }
 },
 "nbformat": 4,
 "nbformat_minor": 1
}
